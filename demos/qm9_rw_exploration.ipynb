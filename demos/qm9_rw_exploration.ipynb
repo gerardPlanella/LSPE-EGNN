{
 "cells": [
  {
   "cell_type": "markdown",
   "metadata": {},
   "source": [
    "# QM9 Dataset exploration"
   ]
  },
  {
   "cell_type": "markdown",
   "metadata": {},
   "source": [
    "Partly inspired from the [chainer-chemistry example notebook](https://github.com/chainer/chainer-chemistry/blob/master/examples/qm9/qm9_dataset_exploration.ipynb).\n",
    "\n",
    "The purpose of this notebook is as follows:\n",
    "\n",
    "* Explain QM9 dataset: Check the labels and visualization of molecules to understand what kind of data are stored.\n",
    "* Explain internal structure of QM9 dataset in chainer_chemistry.\n",
    "* Perform a study on the effectiveness of Random Walk Positional Encodings (RWPEs) in capturing graph-level topology.\n",
    "\n",
    "This notebook needs additional dependencies, install them with the cell below:"
   ]
  },
  {
   "cell_type": "code",
   "execution_count": 5,
   "metadata": {},
   "outputs": [],
   "source": [
    "# !pip install chainer-chemistry rdkit networkx"
   ]
  },
  {
   "cell_type": "code",
   "execution_count": 14,
   "metadata": {},
   "outputs": [],
   "source": [
    "# Imports necessary for running this notebook\n",
    "import torch\n",
    "import numpy as np\n",
    "import networkx as nx\n",
    "import matplotlib.pyplot as plt\n",
    "\n",
    "from itertools import count\n",
    "from chainer_chemistry import datasets"
   ]
  },
  {
   "cell_type": "markdown",
   "metadata": {},
   "source": [
    "QM9 dataset can be downloaded automatically by chainer chemistry. Original format of QM9 dataset is zipped file where each molecule's information is stored in each \"xyz\" file.\n",
    "\n",
    "The dataset contains several chemical/physical properties. The labels of QM9 dataset can be checked by get_qm9_label_names method."
   ]
  },
  {
   "cell_type": "code",
   "execution_count": 15,
   "metadata": {},
   "outputs": [
    {
     "name": "stdout",
     "output_type": "stream",
     "text": [
      "QM9 label_names = ['A', 'B', 'C', 'mu', 'alpha', 'homo', 'lumo', 'gap', 'r2', 'zpve', 'U0', 'U', 'H', 'G', 'Cv']\n"
     ]
    }
   ],
   "source": [
    "label_names = datasets.get_qm9_label_names()\n",
    "print('QM9 label_names =', label_names)"
   ]
  },
  {
   "cell_type": "markdown",
   "metadata": {},
   "source": [
    "### Preprocessing dataset"
   ]
  },
  {
   "cell_type": "markdown",
   "metadata": {},
   "source": [
    "Dataset extraction depends on the preprocessing method, which is determined by preprocessor. Here, we are using the `GGNNPreprocessor` preprocessor for QM9 dataset extraction. This will take approximately 4 minutes."
   ]
  },
  {
   "cell_type": "code",
   "execution_count": 16,
   "metadata": {},
   "outputs": [
    {
     "name": "stderr",
     "output_type": "stream",
     "text": [
      "100%|██████████| 133885/133885 [03:37<00:00, 614.99it/s]\n"
     ]
    }
   ],
   "source": [
    "from chainer_chemistry.dataset.preprocessors.ggnn_preprocessor import \\\n",
    "    GGNNPreprocessor\n",
    "    \n",
    "preprocessor = GGNNPreprocessor()\n",
    "dataset, dataset_smiles = datasets.get_qm9(preprocessor, labels=None, return_smiles=True)"
   ]
  },
  {
   "cell_type": "markdown",
   "metadata": {},
   "source": [
    "### Visualizing a molecule"
   ]
  },
  {
   "cell_type": "code",
   "execution_count": 17,
   "metadata": {},
   "outputs": [],
   "source": [
    "# This script is referred from http://rdkit.blogspot.jp/2015/02/new-drawing-code.html\n",
    "# and http://cheminformist.itmol.com/TEST/wp-content/uploads/2015/07/rdkit_moldraw2d_2.html\n",
    "from __future__ import print_function\n",
    "from rdkit import Chem\n",
    "from rdkit.Chem.Draw import IPythonConsole\n",
    "from IPython.display import SVG\n",
    "\n",
    "from rdkit.Chem import rdDepictor\n",
    "from rdkit.Chem.Draw import rdMolDraw2D\n",
    "def moltosvg(mol,molSize=(450,150),kekulize=True):\n",
    "    mc = Chem.Mol(mol.ToBinary())\n",
    "    if kekulize:\n",
    "        try:\n",
    "            Chem.Kekulize(mc)\n",
    "        except:\n",
    "            mc = Chem.Mol(mol.ToBinary())\n",
    "    if not mc.GetNumConformers():\n",
    "        rdDepictor.Compute2DCoords(mc)\n",
    "    drawer = rdMolDraw2D.MolDraw2DSVG(molSize[0],molSize[1])\n",
    "    drawer.DrawMolecule(mc)\n",
    "    drawer.FinishDrawing()\n",
    "    svg = drawer.GetDrawingText()\n",
    "    return svg\n",
    "\n",
    "def render_svg(svg):\n",
    "    return SVG(svg.replace('svg:',''))"
   ]
  },
  {
   "cell_type": "code",
   "execution_count": 18,
   "metadata": {},
   "outputs": [
    {
     "name": "stdout",
     "output_type": "stream",
     "text": [
      "smiles: CC1=NCCC(C)O1\n"
     ]
    },
    {
     "data": {
      "image/svg+xml": [
       "<svg xmlns=\"http://www.w3.org/2000/svg\" xmlns:rdkit=\"http://www.rdkit.org/xml\" xmlns:xlink=\"http://www.w3.org/1999/xlink\" version=\"1.1\" baseProfile=\"full\" xml:space=\"preserve\" width=\"450px\" height=\"150px\" viewBox=\"0 0 450 150\">\n",
       "<!-- END OF HEADER -->\n",
       "<rect style=\"opacity:1.0;fill:#FFFFFF;stroke:none\" width=\"450.0\" height=\"150.0\" x=\"0.0\" y=\"0.0\"> </rect>\n",
       "<path class=\"bond-0 atom-0 atom-1\" d=\"M 115.0,133.8 L 170.0,102.1\" style=\"fill:none;fill-rule:evenodd;stroke:#000000;stroke-width:2.0px;stroke-linecap:butt;stroke-linejoin:miter;stroke-opacity:1\"/>\n",
       "<path class=\"bond-1 atom-1 atom-2\" d=\"M 170.0,102.1 L 170.0,75.9\" style=\"fill:none;fill-rule:evenodd;stroke:#000000;stroke-width:2.0px;stroke-linecap:butt;stroke-linejoin:miter;stroke-opacity:1\"/>\n",
       "<path class=\"bond-1 atom-1 atom-2\" d=\"M 170.0,75.9 L 170.0,49.7\" style=\"fill:none;fill-rule:evenodd;stroke:#0000FF;stroke-width:2.0px;stroke-linecap:butt;stroke-linejoin:miter;stroke-opacity:1\"/>\n",
       "<path class=\"bond-1 atom-1 atom-2\" d=\"M 179.5,96.6 L 179.5,73.1\" style=\"fill:none;fill-rule:evenodd;stroke:#000000;stroke-width:2.0px;stroke-linecap:butt;stroke-linejoin:miter;stroke-opacity:1\"/>\n",
       "<path class=\"bond-1 atom-1 atom-2\" d=\"M 179.5,73.1 L 179.5,49.7\" style=\"fill:none;fill-rule:evenodd;stroke:#0000FF;stroke-width:2.0px;stroke-linecap:butt;stroke-linejoin:miter;stroke-opacity:1\"/>\n",
       "<path class=\"bond-2 atom-2 atom-3\" d=\"M 178.9,33.4 L 202.0,20.1\" style=\"fill:none;fill-rule:evenodd;stroke:#0000FF;stroke-width:2.0px;stroke-linecap:butt;stroke-linejoin:miter;stroke-opacity:1\"/>\n",
       "<path class=\"bond-2 atom-2 atom-3\" d=\"M 202.0,20.1 L 225.0,6.8\" style=\"fill:none;fill-rule:evenodd;stroke:#000000;stroke-width:2.0px;stroke-linecap:butt;stroke-linejoin:miter;stroke-opacity:1\"/>\n",
       "<path class=\"bond-3 atom-3 atom-4\" d=\"M 225.0,6.8 L 280.0,38.6\" style=\"fill:none;fill-rule:evenodd;stroke:#000000;stroke-width:2.0px;stroke-linecap:butt;stroke-linejoin:miter;stroke-opacity:1\"/>\n",
       "<path class=\"bond-4 atom-4 atom-5\" d=\"M 280.0,38.6 L 280.0,102.1\" style=\"fill:none;fill-rule:evenodd;stroke:#000000;stroke-width:2.0px;stroke-linecap:butt;stroke-linejoin:miter;stroke-opacity:1\"/>\n",
       "<path class=\"bond-5 atom-5 atom-6\" d=\"M 280.0,102.1 L 335.0,133.8\" style=\"fill:none;fill-rule:evenodd;stroke:#000000;stroke-width:2.0px;stroke-linecap:butt;stroke-linejoin:miter;stroke-opacity:1\"/>\n",
       "<path class=\"bond-6 atom-5 atom-7\" d=\"M 280.0,102.1 L 257.7,114.9\" style=\"fill:none;fill-rule:evenodd;stroke:#000000;stroke-width:2.0px;stroke-linecap:butt;stroke-linejoin:miter;stroke-opacity:1\"/>\n",
       "<path class=\"bond-6 atom-5 atom-7\" d=\"M 257.7,114.9 L 235.3,127.8\" style=\"fill:none;fill-rule:evenodd;stroke:#FF0000;stroke-width:2.0px;stroke-linecap:butt;stroke-linejoin:miter;stroke-opacity:1\"/>\n",
       "<path class=\"bond-7 atom-7 atom-1\" d=\"M 214.7,127.8 L 192.3,114.9\" style=\"fill:none;fill-rule:evenodd;stroke:#FF0000;stroke-width:2.0px;stroke-linecap:butt;stroke-linejoin:miter;stroke-opacity:1\"/>\n",
       "<path class=\"bond-7 atom-7 atom-1\" d=\"M 192.3,114.9 L 170.0,102.1\" style=\"fill:none;fill-rule:evenodd;stroke:#000000;stroke-width:2.0px;stroke-linecap:butt;stroke-linejoin:miter;stroke-opacity:1\"/>\n",
       "<path d=\"M 223.8,7.5 L 225.0,6.8 L 227.7,8.4\" style=\"fill:none;stroke:#000000;stroke-width:2.0px;stroke-linecap:butt;stroke-linejoin:miter;stroke-opacity:1;\"/>\n",
       "<path d=\"M 277.2,37.0 L 280.0,38.6 L 280.0,41.7\" style=\"fill:none;stroke:#000000;stroke-width:2.0px;stroke-linecap:butt;stroke-linejoin:miter;stroke-opacity:1;\"/>\n",
       "<path class=\"atom-2\" d=\"M 166.0 29.6 L 171.9 39.1 Q 172.5 40.0, 173.5 41.7 Q 174.4 43.4, 174.4 43.5 L 174.4 29.6 L 176.8 29.6 L 176.8 47.6 L 174.4 47.6 L 168.0 37.1 Q 167.3 35.9, 166.5 34.5 Q 165.8 33.1, 165.5 32.7 L 165.5 47.6 L 163.2 47.6 L 163.2 29.6 L 166.0 29.6 \" fill=\"#0000FF\"/>\n",
       "<path class=\"atom-7\" d=\"M 216.7 133.9 Q 216.7 129.5, 218.9 127.1 Q 221.0 124.7, 225.0 124.7 Q 229.0 124.7, 231.1 127.1 Q 233.3 129.5, 233.3 133.9 Q 233.3 138.2, 231.1 140.7 Q 228.9 143.2, 225.0 143.2 Q 221.0 143.2, 218.9 140.7 Q 216.7 138.3, 216.7 133.9 M 225.0 141.1 Q 227.7 141.1, 229.2 139.3 Q 230.7 137.5, 230.7 133.9 Q 230.7 130.3, 229.2 128.6 Q 227.7 126.7, 225.0 126.7 Q 222.3 126.7, 220.8 128.5 Q 219.3 130.3, 219.3 133.9 Q 219.3 137.5, 220.8 139.3 Q 222.3 141.1, 225.0 141.1 \" fill=\"#FF0000\"/>\n",
       "</svg>"
      ],
      "text/plain": [
       "<IPython.core.display.SVG object>"
      ]
     },
     "execution_count": 18,
     "metadata": {},
     "output_type": "execute_result"
    }
   ],
   "source": [
    "index = 7777\n",
    "smiles = dataset_smiles[index]\n",
    "mol = Chem.MolFromSmiles(dataset_smiles[index])\n",
    "\n",
    "print('smiles:', smiles)\n",
    "svg = moltosvg(mol)\n",
    "render_svg(svg)"
   ]
  },
  {
   "cell_type": "markdown",
   "metadata": {},
   "source": [
    "### RWPE studies\n",
    "\n",
    "\n",
    "TODO: write some more things here"
   ]
  },
  {
   "cell_type": "code",
   "execution_count": 19,
   "metadata": {},
   "outputs": [
    {
     "data": {
      "image/png": "[encoded data removed]",
      "text/plain": [
       "<Figure size 640x480 with 2 Axes>"
      ]
     },
     "metadata": {},
     "output_type": "display_data"
    },
    {
     "data": {
      "image/svg+xml": [
       "<svg xmlns=\"http://www.w3.org/2000/svg\" xmlns:rdkit=\"http://www.rdkit.org/xml\" xmlns:xlink=\"http://www.w3.org/1999/xlink\" version=\"1.1\" baseProfile=\"full\" xml:space=\"preserve\" width=\"450px\" height=\"150px\" viewBox=\"0 0 450 150\">\n",
       "<!-- END OF HEADER -->\n",
       "<rect style=\"opacity:1.0;fill:#FFFFFF;stroke:none\" width=\"450.0\" height=\"150.0\" x=\"0.0\" y=\"0.0\"> </rect>\n",
       "<path class=\"bond-0 atom-0 atom-1\" d=\"M 115.0,133.8 L 170.0,102.1\" style=\"fill:none;fill-rule:evenodd;stroke:#000000;stroke-width:2.0px;stroke-linecap:butt;stroke-linejoin:miter;stroke-opacity:1\"/>\n",
       "<path class=\"bond-1 atom-1 atom-2\" d=\"M 170.0,102.1 L 170.0,75.9\" style=\"fill:none;fill-rule:evenodd;stroke:#000000;stroke-width:2.0px;stroke-linecap:butt;stroke-linejoin:miter;stroke-opacity:1\"/>\n",
       "<path class=\"bond-1 atom-1 atom-2\" d=\"M 170.0,75.9 L 170.0,49.7\" style=\"fill:none;fill-rule:evenodd;stroke:#0000FF;stroke-width:2.0px;stroke-linecap:butt;stroke-linejoin:miter;stroke-opacity:1\"/>\n",
       "<path class=\"bond-1 atom-1 atom-2\" d=\"M 179.5,96.6 L 179.5,73.1\" style=\"fill:none;fill-rule:evenodd;stroke:#000000;stroke-width:2.0px;stroke-linecap:butt;stroke-linejoin:miter;stroke-opacity:1\"/>\n",
       "<path class=\"bond-1 atom-1 atom-2\" d=\"M 179.5,73.1 L 179.5,49.7\" style=\"fill:none;fill-rule:evenodd;stroke:#0000FF;stroke-width:2.0px;stroke-linecap:butt;stroke-linejoin:miter;stroke-opacity:1\"/>\n",
       "<path class=\"bond-2 atom-2 atom-3\" d=\"M 178.9,33.4 L 202.0,20.1\" style=\"fill:none;fill-rule:evenodd;stroke:#0000FF;stroke-width:2.0px;stroke-linecap:butt;stroke-linejoin:miter;stroke-opacity:1\"/>\n",
       "<path class=\"bond-2 atom-2 atom-3\" d=\"M 202.0,20.1 L 225.0,6.8\" style=\"fill:none;fill-rule:evenodd;stroke:#000000;stroke-width:2.0px;stroke-linecap:butt;stroke-linejoin:miter;stroke-opacity:1\"/>\n",
       "<path class=\"bond-3 atom-3 atom-4\" d=\"M 225.0,6.8 L 280.0,38.6\" style=\"fill:none;fill-rule:evenodd;stroke:#000000;stroke-width:2.0px;stroke-linecap:butt;stroke-linejoin:miter;stroke-opacity:1\"/>\n",
       "<path class=\"bond-4 atom-4 atom-5\" d=\"M 280.0,38.6 L 280.0,102.1\" style=\"fill:none;fill-rule:evenodd;stroke:#000000;stroke-width:2.0px;stroke-linecap:butt;stroke-linejoin:miter;stroke-opacity:1\"/>\n",
       "<path class=\"bond-5 atom-5 atom-6\" d=\"M 280.0,102.1 L 335.0,133.8\" style=\"fill:none;fill-rule:evenodd;stroke:#000000;stroke-width:2.0px;stroke-linecap:butt;stroke-linejoin:miter;stroke-opacity:1\"/>\n",
       "<path class=\"bond-6 atom-5 atom-7\" d=\"M 280.0,102.1 L 257.7,114.9\" style=\"fill:none;fill-rule:evenodd;stroke:#000000;stroke-width:2.0px;stroke-linecap:butt;stroke-linejoin:miter;stroke-opacity:1\"/>\n",
       "<path class=\"bond-6 atom-5 atom-7\" d=\"M 257.7,114.9 L 235.3,127.8\" style=\"fill:none;fill-rule:evenodd;stroke:#FF0000;stroke-width:2.0px;stroke-linecap:butt;stroke-linejoin:miter;stroke-opacity:1\"/>\n",
       "<path class=\"bond-7 atom-7 atom-1\" d=\"M 214.7,127.8 L 192.3,114.9\" style=\"fill:none;fill-rule:evenodd;stroke:#FF0000;stroke-width:2.0px;stroke-linecap:butt;stroke-linejoin:miter;stroke-opacity:1\"/>\n",
       "<path class=\"bond-7 atom-7 atom-1\" d=\"M 192.3,114.9 L 170.0,102.1\" style=\"fill:none;fill-rule:evenodd;stroke:#000000;stroke-width:2.0px;stroke-linecap:butt;stroke-linejoin:miter;stroke-opacity:1\"/>\n",
       "<path d=\"M 223.8,7.5 L 225.0,6.8 L 227.7,8.4\" style=\"fill:none;stroke:#000000;stroke-width:2.0px;stroke-linecap:butt;stroke-linejoin:miter;stroke-opacity:1;\"/>\n",
       "<path d=\"M 277.2,37.0 L 280.0,38.6 L 280.0,41.7\" style=\"fill:none;stroke:#000000;stroke-width:2.0px;stroke-linecap:butt;stroke-linejoin:miter;stroke-opacity:1;\"/>\n",
       "<path class=\"atom-2\" d=\"M 166.0 29.6 L 171.9 39.1 Q 172.5 40.0, 173.5 41.7 Q 174.4 43.4, 174.4 43.5 L 174.4 29.6 L 176.8 29.6 L 176.8 47.6 L 174.4 47.6 L 168.0 37.1 Q 167.3 35.9, 166.5 34.5 Q 165.8 33.1, 165.5 32.7 L 165.5 47.6 L 163.2 47.6 L 163.2 29.6 L 166.0 29.6 \" fill=\"#0000FF\"/>\n",
       "<path class=\"atom-7\" d=\"M 216.7 133.9 Q 216.7 129.5, 218.9 127.1 Q 221.0 124.7, 225.0 124.7 Q 229.0 124.7, 231.1 127.1 Q 233.3 129.5, 233.3 133.9 Q 233.3 138.2, 231.1 140.7 Q 228.9 143.2, 225.0 143.2 Q 221.0 143.2, 218.9 140.7 Q 216.7 138.3, 216.7 133.9 M 225.0 141.1 Q 227.7 141.1, 229.2 139.3 Q 230.7 137.5, 230.7 133.9 Q 230.7 130.3, 229.2 128.6 Q 227.7 126.7, 225.0 126.7 Q 222.3 126.7, 220.8 128.5 Q 219.3 130.3, 219.3 133.9 Q 219.3 137.5, 220.8 139.3 Q 222.3 141.1, 225.0 141.1 \" fill=\"#FF0000\"/>\n",
       "</svg>"
      ],
      "text/plain": [
       "<IPython.core.display.SVG object>"
      ]
     },
     "execution_count": 19,
     "metadata": {},
     "output_type": "execute_result"
    }
   ],
   "source": [
    "def rw_positoinal_encoding(adj_matrix, depth=24):\n",
    "    # Calculate degree matrix as row vector\n",
    "    degrees = np.sum(adj_matrix, axis=0)\n",
    "    randomwalk_matrix = []\n",
    "    \n",
    "    # First random walk (n=1) is just adjacency matrix / degrees vector\n",
    "    randomwalk_matrix.append(adj_matrix / degrees)\n",
    "\n",
    "    # Conduct random walk for N steps\n",
    "    for _ in range(depth-1):\n",
    "        randomwalk_i = np.zeros(adj_matrix.shape)\n",
    "\n",
    "        # Divide probabilities by number of outgoing edges\n",
    "        values = (randomwalk_matrix[-1].T / degrees).T\n",
    "\n",
    "        # Redistribute position probabilities by the edges\n",
    "        for i in range(values.shape[0]):\n",
    "            for j in range(values.shape[1]):\n",
    "                col_vector = adj_matrix[:, j] * values[i, j]\n",
    "                randomwalk_i[:, i] += col_vector\n",
    "\n",
    "        randomwalk_matrix.append(randomwalk_i)\n",
    "\n",
    "    diagonal_elements = np.array([np.diag(rw_matrix) for rw_matrix in randomwalk_matrix])\n",
    "    return torch.from_numpy(diagonal_elements)\n",
    "\n",
    "def mol_to_nx(mol):\n",
    "    G = nx.Graph()\n",
    "\n",
    "    for atom in mol.GetAtoms():\n",
    "        G.add_node(atom.GetIdx(),\n",
    "                   atomic_num=atom.GetAtomicNum(),\n",
    "                   is_aromatic=atom.GetIsAromatic(),\n",
    "                   atom_symbol=atom.GetSymbol())\n",
    "        \n",
    "    for bond in mol.GetBonds():\n",
    "        G.add_edge(bond.GetBeginAtomIdx(),\n",
    "                   bond.GetEndAtomIdx(),\n",
    "                   bond_type=bond.GetBondType())\n",
    "        \n",
    "    return G\n",
    "\n",
    "def plot_molecule_at(index, bond_type='single'):\n",
    "    index_map = {'single':0, 'double':1, 'triple':2, 'aromatic':3}\n",
    "    atom, adj, labels = dataset[index]\n",
    "    smiles = dataset_smiles[index]\n",
    "    mol = Chem.MolFromSmiles(dataset_smiles[index])\n",
    "    \n",
    "    g = mol_to_nx(mol)\n",
    "    adj = adj[index_map[bond_type]]\n",
    "    rw = rw_positoinal_encoding(adj)\n",
    "    \n",
    "    for i, n in enumerate(g.nodes()):\n",
    "        g.nodes[n]['pos_enc'] = rw[:, i] \n",
    "    \n",
    "    # Compute the number of unique RWPEs\n",
    "    groups = torch.unique(rw, dim=1) \n",
    "    mapping = dict(zip(groups.T,count()))    \n",
    "        \n",
    "    nodes = g.nodes()\n",
    "    colors, labels = [], {}\n",
    "    for n in nodes:\n",
    "        labels[n] = g.nodes[n]['atom_symbol']\n",
    "        for key in mapping.keys():\n",
    "            if torch.equal(key, g.nodes[n]['pos_enc']):\n",
    "                color = mapping[key]\n",
    "        colors.append(color)\n",
    "    pos = nx.spring_layout(g)\n",
    "    ec = nx.draw_networkx_edges(g, pos, alpha=0.2)\n",
    "    nc = nx.draw_networkx_nodes(g, pos, nodelist=nodes, node_color=colors, \n",
    "                                node_size=100, cmap=plt.cm.jet)\n",
    "    \n",
    "    nx.draw_networkx_labels(g, pos, labels, font_size=9, font_color='w', font_weight='bold')\n",
    "    plt.colorbar(nc)\n",
    "    plt.title(\"Unique RWPEs: \" + str(groups.shape[1]), fontsize=16)\n",
    "    plt.show()    \n",
    "    \n",
    "    \n",
    "index = 7777\n",
    "plot_molecule_at(index)\n",
    "smiles = dataset_smiles[index]\n",
    "mol = Chem.MolFromSmiles(dataset_smiles[index])\n",
    "rdDepictor.Compute2DCoords(mol)\n",
    "svg = moltosvg(mol)\n",
    "render_svg(svg)"
   ]
  }
 ],
 "metadata": {
  "kernelspec": {
   "display_name": "Python 3 (ipykernel)",
   "language": "python",
   "name": "python3"
  },
  "language_info": {
   "codemirror_mode": {
    "name": "ipython",
    "version": 3
   },
   "file_extension": ".py",
   "mimetype": "text/x-python",
   "name": "python",
   "nbconvert_exporter": "python",
   "pygments_lexer": "ipython3",
   "version": "3.10.6"
  }
 },
 "nbformat": 4,
 "nbformat_minor": 1
}
