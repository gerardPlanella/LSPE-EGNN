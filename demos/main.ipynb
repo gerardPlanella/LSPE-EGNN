{
 "cells": [
  {
   "cell_type": "markdown",
   "metadata": {},
   "source": [
    "# Main Notebook"
   ]
  },
  {
   "cell_type": "markdown",
   "metadata": {},
   "source": [
    "This notebook represents the main notebook in which we showcase our main line of experiments. \\\n",
    "Please make sure to activate the environment before running this notebook."
   ]
  },
  {
   "cell_type": "code",
   "execution_count": 37,
   "metadata": {
    "pycharm": {
     "is_executing": true
    }
   },
   "outputs": [
    {
     "name": "stdout",
     "output_type": "stream",
     "text": [
      "W&B offline. Running your script from this directory will only write metadata locally. Use wandb disabled to completely turn off W&B.\r\n"
     ]
    }
   ],
   "source": [
    "# Standard imports\n",
    "import os\n",
    "import torch\n",
    "\n",
    "script_dir = os.path.abspath('')\n",
    "\n",
    "# Set this to false to see wandb output\n",
    "os.environ[\"WANDB_SILENT\"] = \"true\"\n",
    "\n",
    "# Set this to \"online\" for loggin metrics to cloud\n",
    "!wandb offline "
   ]
  },
  {
   "cell_type": "markdown",
   "metadata": {},
   "source": [
    "### About this notebook\n",
    "\n",
    "This notebook showcases the main experiments that we base our paper on. \n",
    "Our experimental setting is comprised of two main sets of experiments, namely:\n",
    "\n",
    "**i)** exploring the benefits of incorporating implicit topology in the EGNN framework, and \\\n",
    "**ii)** examining the trade-off between model complexity and the contribution of the topological information"
   ]
  },
  {
   "cell_type": "markdown",
   "metadata": {},
   "source": [
    "We acknowledge that not anybody might have access to the required computational resources to train each of the models we tested, and thus we provide the saved model weights in the HuggingFace repository [here](https://huggingface.co/datasets/lucapantea/egnn-lspe/tree/main). We thus load each of the model weights saved during training in the following cell."
   ]
  },
  {
   "cell_type": "code",
   "execution_count": 38,
   "metadata": {},
   "outputs": [
    {
     "name": "stdout",
     "output_type": "stream",
     "text": [
      "Model weights already initialized.\n"
     ]
    }
   ],
   "source": [
    "# Create saved_models dir\n",
    "saved_models_dir = os.path.join(os.path.dirname(script_dir), 'saved_models')\n",
    "if not os.path.exists(saved_models_dir):\n",
    "    os.makedirs(saved_models_dir)\n",
    "\n",
    "# Load model weights from hugging face\n",
    "saved_models_dir_git = r'\"{}\"'.format(saved_models_dir)\n",
    "if os.path.exists(saved_models_dir) and len(os.listdir(saved_models_dir)) == 0:\n",
    "    !git clone https://huggingface.co/datasets/lucapantea/egnn-lspe {saved_models_dir_git}\n",
    "else:\n",
    "    print('Model weights already initialized.')"
   ]
  },
  {
   "cell_type": "markdown",
   "metadata": {},
   "source": [
    "## TODO\n",
    "The cells below show how to run all experiments by only using evaluate. The model weight path is given through the `evaluate` argument. All the other arguments for selecting the model should be provided manually."
   ]
  },
  {
   "cell_type": "code",
   "execution_count": 39,
   "metadata": {},
   "outputs": [
    {
     "name": "stdout",
     "output_type": "stream",
     "text": [
      "Namespace(evaluate='mpnn_qm9_fc_nope_no-lspe_yes-dist_no-reduced_epochs-1000_num_layers-7_in_c-11_h_c-128_o_c-1_bs-96_lr-0.0005.pt', model='mpnn', dataset='qm9_fc', pe='nope', pe_dim=0, lspe=False, seed=42, epochs=1000, batch_size=96, learning_rate=0.0005, weight_decay=1e-16, in_channels=11, hidden_channels=128, num_layers=7, out_channels=1, include_dist=True, reduced=False, update_with_pe=False)\n",
      "\n",
      "MPS available. Setting device to MPS.\n",
      "Number of parameters: 743809\n",
      "\n",
      "Loading model with weights stored at /Users/luca/Documents/Masters/Deep Learning 2/LSPE-EGNN/demos/../saved_models/mpnn_qm9_fc_nope_no-lspe_yes-dist_no-reduced_epochs-1000_num_layers-7_in_c-11_h_c-128_o_c-1_bs-96_lr-0.0005.pt...\n",
      "\n",
      "Beginning evaluation...\n",
      "100%|█████████████████████████████████████████| 105/105 [00:22<00:00,  4.66it/s]\n",
      "\n",
      "Test MAE: 0.498\n",
      "Evaluation finished. Exiting...\n"
     ]
    }
   ],
   "source": [
    "# first\n",
    "!python -W ignore ../main.py --evaluate \"mpnn_qm9_fc_nope_no-lspe_yes-dist_no-reduced_epochs-1000_num_layers-7_in_c-11_h_c-128_o_c-1_bs-96_lr-0.0005.pt\" \\\n",
    "                            --dataset \"qm9_fc\" \\\n",
    "                            --pe \"nope\" \\\n",
    "                            --pe_dim 0 \\\n",
    "                            --include_dist "
   ]
  },
  {
   "cell_type": "code",
   "execution_count": 40,
   "metadata": {},
   "outputs": [
    {
     "name": "stdout",
     "output_type": "stream",
     "text": [
      "Namespace(evaluate='mpnn_qm9_fc_nope_no-lspe_yes-dist_no-reduced_no-update_with_pe_epochs-1000_num_layers-7_in_c-11_h_c-128_o_c-1_bs-96_lr-0.0005.pt', model='mpnn', dataset='qm9_fc', pe='nope', pe_dim=24, lspe=False, seed=42, epochs=1000, batch_size=96, learning_rate=0.0005, weight_decay=1e-16, in_channels=11, hidden_channels=128, num_layers=7, out_channels=1, include_dist=True, reduced=False, update_with_pe=False)\n",
      "\n",
      "MPS available. Setting device to MPS.\n",
      "Number of parameters: 743809\n",
      "\n",
      "Loading model with weights stored at /Users/luca/Documents/Masters/Deep Learning 2/LSPE-EGNN/demos/../saved_models/mpnn_qm9_fc_nope_no-lspe_yes-dist_no-reduced_no-update_with_pe_epochs-1000_num_layers-7_in_c-11_h_c-128_o_c-1_bs-96_lr-0.0005.pt...\n",
      "\n",
      "Beginning evaluation...\n",
      "100%|█████████████████████████████████████████| 105/105 [00:22<00:00,  4.64it/s]\n",
      "\n",
      "Test MAE: 0.113\n",
      "Evaluation finished. Exiting...\n"
     ]
    }
   ],
   "source": [
    "# second\n",
    "!python -W ignore ../main.py --evaluate \"mpnn_qm9_fc_nope_no-lspe_yes-dist_no-reduced_no-update_with_pe_epochs-1000_num_layers-7_in_c-11_h_c-128_o_c-1_bs-96_lr-0.0005.pt\" \\\n",
    "                            --dataset \"qm9_fc\" \\\n",
    "                            --pe \"nope\" \\\n",
    "                            --include_dist\n"
   ]
  },
  {
   "cell_type": "code",
   "execution_count": 42,
   "metadata": {},
   "outputs": [
    {
     "name": "stdout",
     "output_type": "stream",
     "text": [
      "Namespace(evaluate='mpnn_qm9_nope_no-lspe_no-dist_no-reduced_yes-update_with_pe_epochs-1000_num_layers-7_in_c-11_h_c-128_o_c-1_bs-96_lr-0.0005.pt', model='mpnn', dataset='qm9', pe='nope', pe_dim=24, lspe=False, seed=42, epochs=1000, batch_size=96, learning_rate=0.0005, weight_decay=1e-16, in_channels=11, hidden_channels=128, num_layers=7, out_channels=1, include_dist=False, reduced=False, update_with_pe=True)\n",
      "\n",
      "MPS available. Setting device to MPS.\n",
      "Number of parameters: 742913\n",
      "\n",
      "Loading model with weights stored at /Users/luca/Documents/Masters/Deep Learning 2/LSPE-EGNN/demos/../saved_models/mpnn_qm9_nope_no-lspe_no-dist_no-reduced_yes-update_with_pe_epochs-1000_num_layers-7_in_c-11_h_c-128_o_c-1_bs-96_lr-0.0005.pt...\n",
      "\n",
      "Beginning evaluation...\n",
      "100%|█████████████████████████████████████████| 105/105 [00:09<00:00, 10.98it/s]\n",
      "\n",
      "Test MAE: 1.452\n",
      "Evaluation finished. Exiting...\n"
     ]
    }
   ],
   "source": [
    "# third\n",
    "!python -W ignore ../main.py --evaluate \"mpnn_qm9_nope_no-lspe_no-dist_no-reduced_yes-update_with_pe_epochs-1000_num_layers-7_in_c-11_h_c-128_o_c-1_bs-96_lr-0.0005.pt\" \\\n",
    "                            --dataset \"qm9\" \\\n",
    "                            --pe \"nope\" \\\n",
    "                            --update_with_pe"
   ]
  },
  {
   "cell_type": "code",
   "execution_count": 45,
   "metadata": {},
   "outputs": [
    {
     "name": "stdout",
     "output_type": "stream",
     "text": [
      "Namespace(evaluate='mpnn_qm9_nope_no-lspe_yes-dist_no-reduced_epochs-1000_num_layers-7_in_c-11_h_c-128_o_c-1_bs-96_lr-0.0005.pt', model='mpnn', dataset='qm9', pe='nope', pe_dim=24, lspe=False, seed=42, epochs=1000, batch_size=96, learning_rate=0.0005, weight_decay=1e-16, in_channels=11, hidden_channels=128, num_layers=7, out_channels=1, include_dist=True, reduced=False, update_with_pe=False)\n",
      "\n",
      "MPS available. Setting device to MPS.\n",
      "Number of parameters: 743809\n",
      "\n",
      "Loading model with weights stored at /Users/luca/Documents/Masters/Deep Learning 2/LSPE-EGNN/demos/../saved_models/mpnn_qm9_nope_no-lspe_yes-dist_no-reduced_epochs-1000_num_layers-7_in_c-11_h_c-128_o_c-1_bs-96_lr-0.0005.pt...\n",
      "\n",
      "Beginning evaluation...\n",
      "100%|█████████████████████████████████████████| 105/105 [00:12<00:00,  8.44it/s]\n",
      "\n",
      "Test MAE: 0.251\n",
      "Evaluation finished. Exiting...\n"
     ]
    }
   ],
   "source": [
    "# fourth\n",
    "!python -W ignore ../main.py --evaluate \"mpnn_qm9_nope_no-lspe_yes-dist_no-reduced_epochs-1000_num_layers-7_in_c-11_h_c-128_o_c-1_bs-96_lr-0.0005.pt\" \\\n",
    "                            --dataset \"qm9\" \\\n",
    "                            --pe \"nope\" \\\n",
    "                            --include_dist"
   ]
  },
  {
   "cell_type": "code",
   "execution_count": 48,
   "metadata": {},
   "outputs": [
    {
     "name": "stdout",
     "output_type": "stream",
     "text": [
      "Namespace(evaluate='mpnn_qm9_rw24_yes-lspe_no-dist_no-reduced_epochs-1000_num_layers-7_in_c-11_h_c-128_o_c-1_bs-96_lr-0.0005.pt', model='mpnn', dataset='qm9', pe='rw', pe_dim=24, lspe=True, seed=42, epochs=1000, batch_size=96, learning_rate=0.0005, weight_decay=1e-16, in_channels=11, hidden_channels=128, num_layers=7, out_channels=1, include_dist=False, reduced=False, update_with_pe=False)\n",
      "\n",
      "MPS available. Setting device to MPS.\n",
      "Number of parameters: 1670273\n",
      "\n",
      "Loading model with weights stored at /Users/luca/Documents/Masters/Deep Learning 2/LSPE-EGNN/demos/../saved_models/mpnn_qm9_rw24_yes-lspe_no-dist_no-reduced_epochs-1000_num_layers-7_in_c-11_h_c-128_o_c-1_bs-96_lr-0.0005.pt...\n",
      "\n",
      "Beginning evaluation...\n",
      "100%|█████████████████████████████████████████| 105/105 [00:14<00:00,  7.00it/s]\n",
      "\n",
      "Test MAE: 0.214\n",
      "Evaluation finished. Exiting...\n"
     ]
    }
   ],
   "source": [
    "# fifth\n",
    "!python -W ignore ../main.py --evaluate \"mpnn_qm9_rw24_yes-lspe_no-dist_no-reduced_epochs-1000_num_layers-7_in_c-11_h_c-128_o_c-1_bs-96_lr-0.0005.pt\" \\\n",
    "                            --dataset \"qm9\" \\\n",
    "                            --pe \"rw\" \\\n",
    "                            --pe_dim 24 \\\n",
    "                            --lspe"
   ]
  },
  {
   "cell_type": "code",
   "execution_count": 50,
   "metadata": {},
   "outputs": [
    {
     "name": "stdout",
     "output_type": "stream",
     "text": [
      "Namespace(evaluate='mpnn_qm9_rw24_yes-lspe_no-dist_no-reduced_no-update_with_pe_epochs-1000_num_layers-7_in_c-11_h_c-128_o_c-1_bs-96_lr-0.0005_seed-42.pt', model='mpnn', dataset='qm9', pe='rw', pe_dim=24, lspe=True, seed=42, epochs=1000, batch_size=96, learning_rate=0.0005, weight_decay=1e-16, in_channels=11, hidden_channels=128, num_layers=7, out_channels=1, include_dist=False, reduced=False, update_with_pe=False)\n",
      "\n",
      "MPS available. Setting device to MPS.\n",
      "Number of parameters: 1670273\n",
      "\n",
      "Loading model with weights stored at /Users/luca/Documents/Masters/Deep Learning 2/LSPE-EGNN/demos/../saved_models/mpnn_qm9_rw24_yes-lspe_no-dist_no-reduced_no-update_with_pe_epochs-1000_num_layers-7_in_c-11_h_c-128_o_c-1_bs-96_lr-0.0005_seed-42.pt...\n",
      "\n",
      "Beginning evaluation...\n",
      "100%|█████████████████████████████████████████| 105/105 [00:15<00:00,  6.91it/s]\n",
      "\n",
      "Test MAE: 0.215\n",
      "Evaluation finished. Exiting...\n"
     ]
    }
   ],
   "source": [
    "# sixth\n",
    "!python -W ignore ../main.py --evaluate \"mpnn_qm9_rw24_yes-lspe_no-dist_no-reduced_no-update_with_pe_epochs-1000_num_layers-7_in_c-11_h_c-128_o_c-1_bs-96_lr-0.0005_seed-42.pt\" \\\n",
    "                            --dataset \"qm9\" \\\n",
    "                            --pe \"rw\" \\\n",
    "                            --pe_dim 24 \\\n",
    "                            --lspe \\\n",
    "                            --seed 42"
   ]
  },
  {
   "cell_type": "code",
   "execution_count": 52,
   "metadata": {},
   "outputs": [
    {
     "name": "stdout",
     "output_type": "stream",
     "text": [
      "Namespace(evaluate='mpnn_qm9_rw24_yes-lspe_no-dist_no-reduced_no-update_with_pe_epochs-1000_num_layers-7_in_c-11_h_c-128_o_c-1_bs-96_lr-0.0005_seed-420.pt', model='mpnn', dataset='qm9', pe='rw', pe_dim=24, lspe=True, seed=420, epochs=1000, batch_size=96, learning_rate=0.0005, weight_decay=1e-16, in_channels=11, hidden_channels=128, num_layers=7, out_channels=1, include_dist=False, reduced=False, update_with_pe=False)\n",
      "\n",
      "MPS available. Setting device to MPS.\n",
      "Number of parameters: 1670273\n",
      "\n",
      "Loading model with weights stored at /Users/luca/Documents/Masters/Deep Learning 2/LSPE-EGNN/demos/../saved_models/mpnn_qm9_rw24_yes-lspe_no-dist_no-reduced_no-update_with_pe_epochs-1000_num_layers-7_in_c-11_h_c-128_o_c-1_bs-96_lr-0.0005_seed-420.pt...\n",
      "\n",
      "Beginning evaluation...\n",
      "100%|█████████████████████████████████████████| 105/105 [00:15<00:00,  6.86it/s]\n",
      "\n",
      "Test MAE: 0.223\n",
      "Evaluation finished. Exiting...\n"
     ]
    }
   ],
   "source": [
    "# seventh\n",
    "!python -W ignore ../main.py --evaluate \"mpnn_qm9_rw24_yes-lspe_no-dist_no-reduced_no-update_with_pe_epochs-1000_num_layers-7_in_c-11_h_c-128_o_c-1_bs-96_lr-0.0005_seed-420.pt\" \\\n",
    "                            --dataset \"qm9\" \\\n",
    "                            --pe \"rw\" \\\n",
    "                            --pe_dim 24 \\\n",
    "                            --lspe \\\n",
    "                            --seed 420 "
   ]
  },
  {
   "cell_type": "code",
   "execution_count": 54,
   "metadata": {},
   "outputs": [
    {
     "name": "stdout",
     "output_type": "stream",
     "text": [
      "Namespace(evaluate='mpnn_qm9_rw24_yes-lspe_yes-dist_no-reduced_no-update_with_pe_epochs-1000_num_layers-7_in_c-11_h_c-128_o_c-1_bs-96_lr-0.0005_seed-42.pt', model='mpnn', dataset='qm9', pe='rw', pe_dim=24, lspe=True, seed=42, epochs=1000, batch_size=96, learning_rate=0.0005, weight_decay=1e-16, in_channels=11, hidden_channels=128, num_layers=7, out_channels=1, include_dist=True, reduced=False, update_with_pe=False)\n",
      "\n",
      "MPS available. Setting device to MPS.\n",
      "Number of parameters: 1672065\n",
      "\n",
      "Loading model with weights stored at /Users/luca/Documents/Masters/Deep Learning 2/LSPE-EGNN/demos/../saved_models/mpnn_qm9_rw24_yes-lspe_yes-dist_no-reduced_no-update_with_pe_epochs-1000_num_layers-7_in_c-11_h_c-128_o_c-1_bs-96_lr-0.0005_seed-42.pt...\n",
      "\n",
      "Beginning evaluation...\n",
      "100%|█████████████████████████████████████████| 105/105 [00:18<00:00,  5.61it/s]\n",
      "\n",
      "Test MAE: 0.216\n",
      "Evaluation finished. Exiting...\n"
     ]
    }
   ],
   "source": [
    "# eith\n",
    "!python -W ignore ../main.py --evaluate \"mpnn_qm9_rw24_yes-lspe_yes-dist_no-reduced_no-update_with_pe_epochs-1000_num_layers-7_in_c-11_h_c-128_o_c-1_bs-96_lr-0.0005_seed-42.pt\" \\\n",
    "                            --dataset \"qm9\" \\\n",
    "                            --pe \"rw\" \\\n",
    "                            --pe_dim 24 \\\n",
    "                            --lspe \\\n",
    "                            --include_dist"
   ]
  },
  {
   "cell_type": "code",
   "execution_count": 55,
   "metadata": {},
   "outputs": [
    {
     "name": "stdout",
     "output_type": "stream",
     "text": [
      "Namespace(evaluate='mpnn_qm9_rw24_yes-lspe_yes-dist_no-reduced_no-update_with_pe_epochs-1000_num_layers-7_in_c-11_h_c-128_o_c-1_bs-96_lr-0.0005_seed-420.pt', model='mpnn', dataset='qm9', pe='rw', pe_dim=24, lspe=True, seed=42, epochs=1000, batch_size=96, learning_rate=0.0005, weight_decay=1e-16, in_channels=11, hidden_channels=128, num_layers=7, out_channels=1, include_dist=True, reduced=False, update_with_pe=False)\n",
      "\n",
      "MPS available. Setting device to MPS.\n",
      "Number of parameters: 1672065\n",
      "\n",
      "Loading model with weights stored at /Users/luca/Documents/Masters/Deep Learning 2/LSPE-EGNN/demos/../saved_models/mpnn_qm9_rw24_yes-lspe_yes-dist_no-reduced_no-update_with_pe_epochs-1000_num_layers-7_in_c-11_h_c-128_o_c-1_bs-96_lr-0.0005_seed-420.pt...\n",
      "\n",
      "Beginning evaluation...\n",
      "  0%|                                                   | 0/105 [00:00<?, ?it/s]/Users/luca/Documents/Masters/Deep Learning 2/LSPE-EGNN/models/mpnn.py:94: UserWarning: The operator 'aten::linalg_vector_norm' is not currently supported on the MPS backend and will fall back to run on the CPU. This may have performance implications. (Triggered internally at /Users/runner/work/pytorch/pytorch/pytorch/aten/src/ATen/mps/MPSFallback.mm:11.)\n",
      "  dist = torch.linalg.norm(pos[send] - pos[rec], dim=1).unsqueeze(1)\n",
      "100%|█████████████████████████████████████████| 105/105 [00:18<00:00,  5.71it/s]\n",
      "\n",
      "Test MAE: 0.232\n",
      "Evaluation finished. Exiting...\n"
     ]
    }
   ],
   "source": [
    "# ninth\n",
    "!python ../main.py --evaluate \"mpnn_qm9_rw24_yes-lspe_yes-dist_no-reduced_no-update_with_pe_epochs-1000_num_layers-7_in_c-11_h_c-128_o_c-1_bs-96_lr-0.0005_seed-420.pt\" \\\n",
    "                    --dataset \"qm9\" \\\n",
    "                    --pe \"rw\" \\\n",
    "                    --pe_dim 24 \\\n",
    "                    --lspe \\\n",
    "                    --include_dist"
   ]
  },
  {
   "cell_type": "code",
   "execution_count": 4,
   "metadata": {},
   "outputs": [],
   "source": [
    "# Experiment 2: Details, formulas, and running (either train or evaluate directly using model weights)\n",
    "# Use argument --evaluate to run experiments with the saved model weights"
   ]
  },
  {
   "cell_type": "code",
   "execution_count": 5,
   "metadata": {},
   "outputs": [],
   "source": [
    "# Extra Studies?"
   ]
  }
 ],
 "metadata": {
  "kernelspec": {
   "display_name": "Python 3 (ipykernel)",
   "language": "python",
   "name": "python3"
  },
  "language_info": {
   "codemirror_mode": {
    "name": "ipython",
    "version": 3
   },
   "file_extension": ".py",
   "mimetype": "text/x-python",
   "name": "python",
   "nbconvert_exporter": "python",
   "pygments_lexer": "ipython3",
   "version": "3.10.6"
  }
 },
 "nbformat": 4,
 "nbformat_minor": 1
}
